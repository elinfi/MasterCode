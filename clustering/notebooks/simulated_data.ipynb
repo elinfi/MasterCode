{
 "cells": [
  {
   "cell_type": "markdown",
   "id": "7d78c406-374a-43e9-833e-4e0503b637c6",
   "metadata": {},
   "source": [
    "# Simulation of Hi-C data"
   ]
  },
  {
   "cell_type": "code",
   "execution_count": 1,
   "id": "440221d5-59fc-4fb1-a2cc-4a02fb83a08d",
   "metadata": {
    "jupyter": {
     "source_hidden": true
    },
    "tags": []
   },
   "outputs": [],
   "source": [
    "import sys\n",
    "sys.path.insert(1, '/home/elinfi/MasterCode/clustering/class/')"
   ]
  },
  {
   "cell_type": "code",
   "execution_count": 2,
   "id": "b43743b3-2864-4c8c-8866-f066f0157e8b",
   "metadata": {
    "jupyter": {
     "source_hidden": true
    },
    "tags": []
   },
   "outputs": [],
   "source": [
    "import time\n",
    "import numpy as np\n",
    "import cooltools.lib.plotting\n",
    "import matplotlib.pyplot as plt\n",
    "import matplotlib as mpl\n",
    "\n",
    "from time import time\n",
    "from k_medoids import KMedoids\n",
    "from cluster_statistics import ClusterStatistics\n",
    "from sklearn.preprocessing import MinMaxScaler, StandardScaler\n",
    "from data_preparation import DataPreparation\n",
    "from dissimilarity_matrix import DissimilarityMatrix\n",
    "from simulate_data import SimulateData"
   ]
  },
  {
   "cell_type": "code",
   "execution_count": 3,
   "id": "808652c1-29eb-47c7-883f-e89dc43a0599",
   "metadata": {
    "jupyter": {
     "source_hidden": true
    },
    "tags": []
   },
   "outputs": [],
   "source": [
    "# globally set font sizes\n",
    "SMALL_SIZE = 12\n",
    "MEDIUM_SIZE = 14\n",
    "BIGGER_SIZE = 16\n",
    "\n",
    "plt.rc('font', size=SMALL_SIZE)          # controls default text sizes\n",
    "plt.rc('axes', titlesize=BIGGER_SIZE)    # fontsize of the axes title\n",
    "plt.rc('axes', labelsize=MEDIUM_SIZE)    # fontsize of the x and y labels\n",
    "plt.rc('xtick', labelsize=SMALL_SIZE)    # fontsize of the tick labels\n",
    "plt.rc('ytick', labelsize=SMALL_SIZE)    # fontsize of the tick labels\n",
    "plt.rc('legend', fontsize=SMALL_SIZE)    # legend fontsize\n",
    "plt.rc('figure', titlesize=BIGGER_SIZE)  # fontsize of the figure title"
   ]
  },
  {
   "cell_type": "code",
   "execution_count": 4,
   "id": "da596d7b-77fd-4029-8c53-bb39c1de22d3",
   "metadata": {
    "jupyter": {
     "source_hidden": true
    },
    "tags": []
   },
   "outputs": [],
   "source": [
    "from matplotlib.ticker import EngFormatter\n",
    "bp_formatter = EngFormatter('b')\n",
    "\n",
    "def format_ticks(ax, x=True, y=True, rotate=True):\n",
    "    if y:\n",
    "        ax.yaxis.set_major_formatter(bp_formatter)\n",
    "    if x:\n",
    "        ax.xaxis.set_major_formatter(bp_formatter)\n",
    "        ax.xaxis.tick_bottom()\n",
    "    if rotate:\n",
    "        ax.tick_params(axis='x',rotation=45)"
   ]
  },
  {
   "cell_type": "code",
   "execution_count": 5,
   "id": "22d7432b-e5b5-4b3d-951d-72ef9dc7fe43",
   "metadata": {},
   "outputs": [
    {
     "name": "stdout",
     "output_type": "stream",
     "text": [
      "0\n",
      "3969\n"
     ]
    }
   ],
   "source": [
    "resolution = 32000\n",
    "region = 'chr4:5M-7M'\n",
    "\n",
    "simulation = SimulateData(resolution, region)\n",
    "print(np.sum(np.isnan(simulation.matrix)))\n",
    "print(np.shape(simulation.matrix)[0] * np.shape(simulation.matrix)[1])"
   ]
  },
  {
   "cell_type": "code",
   "execution_count": 6,
   "id": "4a746078-1a4e-4b02-8b98-64c35729ea5d",
   "metadata": {},
   "outputs": [
    {
     "ename": "SyntaxError",
     "evalue": "invalid syntax (<ipython-input-6-125c78b59c17>, line 11)",
     "output_type": "error",
     "traceback": [
      "\u001b[0;36m  File \u001b[0;32m\"<ipython-input-6-125c78b59c17>\"\u001b[0;36m, line \u001b[0;32m11\u001b[0m\n\u001b[0;31m    extent=(5M, )\u001b[0m\n\u001b[0m             ^\u001b[0m\n\u001b[0;31mSyntaxError\u001b[0m\u001b[0;31m:\u001b[0m invalid syntax\n"
     ]
    }
   ],
   "source": [
    "f, axs = plt.subplots(figsize=(20, 20),\n",
    "                      nrows=1,\n",
    "                      ncols=1,\n",
    "                      sharex=True, sharey=False)\n",
    "ax = axs\n",
    "vmax = np.nanmax(abs(simulation.matrix))\n",
    "im = ax.matshow(simulation.matrix,\n",
    "                vmax=vmax,\n",
    "                vmin=-vmax,\n",
    "                cmap='bwr',\n",
    "                extent=(5M, )\n",
    "                #extent=(0,simulation.clr.chromsizes[region], simulation.clr.chromsizes[region], 0))\n",
    "plt.colorbar(im, fraction=0.046, pad=0.04, label='Interactions difference', ax=ax)\n",
    "ax.set_title('wt_002 - wt_001 for ' + region, y=1.01)\n",
    "plt.savefig('../Figures/sub_002_001.png')\n",
    "format_ticks(ax)"
   ]
  }
 ],
 "metadata": {
  "kernelspec": {
   "display_name": "Python 3",
   "language": "python",
   "name": "python3"
  },
  "language_info": {
   "codemirror_mode": {
    "name": "ipython",
    "version": 3
   },
   "file_extension": ".py",
   "mimetype": "text/x-python",
   "name": "python",
   "nbconvert_exporter": "python",
   "pygments_lexer": "ipython3",
   "version": "3.6.8"
  }
 },
 "nbformat": 4,
 "nbformat_minor": 5
}
