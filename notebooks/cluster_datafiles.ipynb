{
 "cells": [
  {
   "cell_type": "markdown",
   "id": "872c5b63-e0d6-43fc-9829-b4283c6e5c5d",
   "metadata": {},
   "source": [
    "# Clustering on npy-datafiles"
   ]
  },
  {
   "cell_type": "code",
   "execution_count": 1,
   "id": "0a7cdc1f-1a82-425f-886d-a462206514e3",
   "metadata": {},
   "outputs": [],
   "source": [
    "import sys\n",
    "sys.path.insert(1, '/home/elinfi/MasterCode/src/class/')"
   ]
  },
  {
   "cell_type": "code",
   "execution_count": 2,
   "id": "25c2eae1-b47e-45d9-8457-163e30db8db6",
   "metadata": {},
   "outputs": [],
   "source": [
    "import os\n",
    "import cooltools.lib.plotting\n",
    "\n",
    "import numpy as np\n",
    "import matplotlib as mpl\n",
    "import matplotlib.pyplot as plt\n",
    "import pretty_plotting as pplot\n",
    "\n",
    "from k_medoids import KMedoids\n",
    "from mid_point_log_norm import MidPointLogNorm\n",
    "from dissimilarity_matrix import DissimilarityMatrix\n"
   ]
  },
  {
   "cell_type": "code",
   "execution_count": 3,
   "id": "61f4eb73-a51c-498e-9d69-5052c9dcf883",
   "metadata": {},
   "outputs": [],
   "source": [
    "pplot.font_size(22, 26, 30)"
   ]
  },
  {
   "cell_type": "code",
   "execution_count": 7,
   "id": "22644e2d-841f-4a21-bebd-074c65ece70c",
   "metadata": {},
   "outputs": [],
   "source": [
    "PATH = '/home/elinfi/MasterCode/data/Differences'\n",
    "REGION = 'chr6:124121218-127121218'\n",
    "EXTENT = pplot.region2extent(REGION)"
   ]
  },
  {
   "cell_type": "markdown",
   "id": "f60f85e0-0f12-404d-a352-b832c904ec14",
   "metadata": {},
   "source": [
    "## Subtraction"
   ]
  },
  {
   "cell_type": "code",
   "execution_count": 8,
   "id": "742e1bbb-923a-48b2-91e9-4d6fee9e5590",
   "metadata": {
    "tags": []
   },
   "outputs": [
    {
     "ename": "FileNotFoundError",
     "evalue": "[Errno 2] No such file or directory: '/home/elinfi/MasterCode/data/Differences/sub_chr6:124121218-127121218.npy'",
     "output_type": "error",
     "traceback": [
      "\u001b[0;31m---------------------------------------------------------------------------\u001b[0m",
      "\u001b[0;31mFileNotFoundError\u001b[0m                         Traceback (most recent call last)",
      "\u001b[0;32m<ipython-input-8-bc353003987b>\u001b[0m in \u001b[0;36m<module>\u001b[0;34m\u001b[0m\n\u001b[1;32m      1\u001b[0m \u001b[0;31m# load dataset\u001b[0m\u001b[0;34m\u001b[0m\u001b[0;34m\u001b[0m\u001b[0;34m\u001b[0m\u001b[0m\n\u001b[0;32m----> 2\u001b[0;31m \u001b[0msub\u001b[0m \u001b[0;34m=\u001b[0m \u001b[0mnp\u001b[0m\u001b[0;34m.\u001b[0m\u001b[0mload\u001b[0m\u001b[0;34m(\u001b[0m\u001b[0mos\u001b[0m\u001b[0;34m.\u001b[0m\u001b[0mpath\u001b[0m\u001b[0;34m.\u001b[0m\u001b[0mjoin\u001b[0m\u001b[0;34m(\u001b[0m\u001b[0mPATH\u001b[0m\u001b[0;34m,\u001b[0m \u001b[0;34m'sub_'\u001b[0m \u001b[0;34m+\u001b[0m \u001b[0mREGION\u001b[0m \u001b[0;34m+\u001b[0m \u001b[0;34m'.npy'\u001b[0m\u001b[0;34m)\u001b[0m\u001b[0;34m)\u001b[0m\u001b[0;34m\u001b[0m\u001b[0;34m\u001b[0m\u001b[0m\n\u001b[0m\u001b[1;32m      3\u001b[0m \u001b[0mprint\u001b[0m\u001b[0;34m(\u001b[0m\u001b[0msub\u001b[0m\u001b[0;34m.\u001b[0m\u001b[0mshape\u001b[0m\u001b[0;34m)\u001b[0m\u001b[0;34m\u001b[0m\u001b[0;34m\u001b[0m\u001b[0m\n\u001b[1;32m      4\u001b[0m \u001b[0;34m\u001b[0m\u001b[0m\n\u001b[1;32m      5\u001b[0m \u001b[0;31m# dissimilarity matrix\u001b[0m\u001b[0;34m\u001b[0m\u001b[0;34m\u001b[0m\u001b[0;34m\u001b[0m\u001b[0m\n",
      "\u001b[0;32m~/software/miniconda3/envs/python38/lib/python3.8/site-packages/numpy/lib/npyio.py\u001b[0m in \u001b[0;36mload\u001b[0;34m(file, mmap_mode, allow_pickle, fix_imports, encoding)\u001b[0m\n\u001b[1;32m    405\u001b[0m             \u001b[0mown_fid\u001b[0m \u001b[0;34m=\u001b[0m \u001b[0;32mFalse\u001b[0m\u001b[0;34m\u001b[0m\u001b[0;34m\u001b[0m\u001b[0m\n\u001b[1;32m    406\u001b[0m         \u001b[0;32melse\u001b[0m\u001b[0;34m:\u001b[0m\u001b[0;34m\u001b[0m\u001b[0;34m\u001b[0m\u001b[0m\n\u001b[0;32m--> 407\u001b[0;31m             \u001b[0mfid\u001b[0m \u001b[0;34m=\u001b[0m \u001b[0mstack\u001b[0m\u001b[0;34m.\u001b[0m\u001b[0menter_context\u001b[0m\u001b[0;34m(\u001b[0m\u001b[0mopen\u001b[0m\u001b[0;34m(\u001b[0m\u001b[0mos_fspath\u001b[0m\u001b[0;34m(\u001b[0m\u001b[0mfile\u001b[0m\u001b[0;34m)\u001b[0m\u001b[0;34m,\u001b[0m \u001b[0;34m\"rb\"\u001b[0m\u001b[0;34m)\u001b[0m\u001b[0;34m)\u001b[0m\u001b[0;34m\u001b[0m\u001b[0;34m\u001b[0m\u001b[0m\n\u001b[0m\u001b[1;32m    408\u001b[0m             \u001b[0mown_fid\u001b[0m \u001b[0;34m=\u001b[0m \u001b[0;32mTrue\u001b[0m\u001b[0;34m\u001b[0m\u001b[0;34m\u001b[0m\u001b[0m\n\u001b[1;32m    409\u001b[0m \u001b[0;34m\u001b[0m\u001b[0m\n",
      "\u001b[0;31mFileNotFoundError\u001b[0m: [Errno 2] No such file or directory: '/home/elinfi/MasterCode/data/Differences/sub_chr6:124121218-127121218.npy'"
     ]
    }
   ],
   "source": [
    "# load dataset\n",
    "sub = np.load(os.path.join(PATH, 'sub_' + REGION + '.npy'))\n",
    "print(sub.shape)\n",
    "\n",
    "# dissimilarity matrix\n",
    "diss_sub = DissimilarityMatrix(sub)"
   ]
  },
  {
   "cell_type": "code",
   "execution_count": null,
   "id": "fe3c7f62-d4a2-4593-9d0a-e10f900e5c42",
   "metadata": {
    "tags": []
   },
   "outputs": [],
   "source": [
    "# interactions difference\n",
    "interactions_dist = diss_sub.scipy_dist(metric='interactions_dist', col1=0, col2=3)\n",
    "\n",
    "# diagonal distance\n",
    "diagonal_dist = diss_sub.scipy_dist(metric='diagonal_dist', col1=0, col2=3)"
   ]
  },
  {
   "cell_type": "code",
   "execution_count": null,
   "id": "15ea32b4-b4e6-4892-9f26-cd02aba215ab",
   "metadata": {
    "tags": []
   },
   "outputs": [],
   "source": [
    "# calculate weighted distance matrix\n",
    "w1 = 1\n",
    "w2 = 0.01\n",
    "\n",
    "dist_mat = w1*interactions_dist + w2*diagonal_dist"
   ]
  },
  {
   "cell_type": "code",
   "execution_count": null,
   "id": "1683abd8-8d89-4b2a-99b7-3a061eadd0ab",
   "metadata": {},
   "outputs": [],
   "source": [
    "### calculate kmedoids clusters\n",
    "medoids = 5\n",
    "random_state = 19\n",
    "\n",
    "n = diss_sub.n\n",
    "triu_nan_idx = diss_sub.nan_idx_triu\n",
    "\n",
    "# find clusters using k-medoids\n",
    "kmedoids = KMedoids(dist_mat)\n",
    "cluster_result = kmedoids.clusters(medoids=medoids, random_state=random_state)\n",
    "labels_mat = kmedoids.labels4plotting_nan(n, triu_nan_idx)"
   ]
  },
  {
   "cell_type": "code",
   "execution_count": null,
   "id": "6c1b96ac-b65f-45c5-9b91-a053e63655ed",
   "metadata": {
    "tags": []
   },
   "outputs": [],
   "source": [
    "f, axs = plt.subplots(figsize=(28, 10),\n",
    "                      nrows=1,\n",
    "                      ncols=2,\n",
    "                      sharex=True, sharey=False)\n",
    "\n",
    "ax = axs[0]\n",
    "vmax = np.nanmax(abs(sub))\n",
    "im = ax.matshow(sub,\n",
    "                vmax=vmax,\n",
    "                vmin=-vmax,\n",
    "                cmap='bwr',\n",
    "                extent=EXTENT)\n",
    "plt.colorbar(im, fraction=0.046, pad=0.04, label='IF difference', ax=ax)\n",
    "ax.grid(b=True)\n",
    "ax.set(title='Subtraction')\n",
    "pplot.format_ticks(ax)\n",
    "\n",
    "ax = axs[1]\n",
    "\n",
    "# create discrete colormap\n",
    "cmap = plt.cm.cool\n",
    "bounds = np.linspace(0, medoids, medoids+1)\n",
    "norm = mpl.colors.BoundaryNorm(bounds, cmap.N)\n",
    "\n",
    "im = ax.matshow(labels_mat,\n",
    "                norm=norm,\n",
    "                cmap=cmap,\n",
    "                alpha=1,\n",
    "                extent=EXTENT)\n",
    "plt.colorbar(im, fraction=0.046, pad=0.04, label='clusters', ax=ax)\n",
    "ax.grid(b=True)\n",
    "ax.set(title='Weighted distance')\n",
    "pplot.format_ticks(ax)\n",
    "plt.savefig(f'../../Figures/Clusters/{REGION}_sub_cluster.png')"
   ]
  },
  {
   "cell_type": "markdown",
   "id": "69841ec5-e356-40cf-b476-fc8e96a47112",
   "metadata": {},
   "source": [
    "## Division"
   ]
  },
  {
   "cell_type": "code",
   "execution_count": null,
   "id": "9daf0cdb-c0de-47f0-b56d-53fc8d243970",
   "metadata": {},
   "outputs": [],
   "source": [
    "# load dataset\n",
    "div = np.load(os.path.join(PATH, 'div_' + REGION + '.npy'))\n",
    "\n",
    "# dissimilarity matrix\n",
    "diss_div = DissimilarityMatrix(np.log(div))"
   ]
  },
  {
   "cell_type": "code",
   "execution_count": null,
   "id": "5b3fa7b4-fc88-48d4-9d06-81b614534eb0",
   "metadata": {
    "tags": []
   },
   "outputs": [],
   "source": [
    "# interactions difference\n",
    "interactions_dist = diss_div.scipy_dist(metric='interactions_dist', col1=0, col2=3)\n",
    "\n",
    "# diagonal distance\n",
    "diagonal_dist = diss_div.scipy_dist(metric='diagonal_dist', col1=0, col2=3)"
   ]
  },
  {
   "cell_type": "code",
   "execution_count": 9,
   "id": "4400bf0a-022d-4fd9-b8de-876d771b5e49",
   "metadata": {
    "tags": []
   },
   "outputs": [
    {
     "ename": "NameError",
     "evalue": "name 'interactions_dist' is not defined",
     "output_type": "error",
     "traceback": [
      "\u001b[0;31m---------------------------------------------------------------------------\u001b[0m",
      "\u001b[0;31mNameError\u001b[0m                                 Traceback (most recent call last)",
      "\u001b[0;32m<ipython-input-9-814fa9118af0>\u001b[0m in \u001b[0;36m<module>\u001b[0;34m\u001b[0m\n\u001b[1;32m      3\u001b[0m \u001b[0mw2\u001b[0m \u001b[0;34m=\u001b[0m \u001b[0;36m0.01\u001b[0m\u001b[0;34m\u001b[0m\u001b[0;34m\u001b[0m\u001b[0m\n\u001b[1;32m      4\u001b[0m \u001b[0;34m\u001b[0m\u001b[0m\n\u001b[0;32m----> 5\u001b[0;31m \u001b[0mdist_mat\u001b[0m \u001b[0;34m=\u001b[0m \u001b[0mw1\u001b[0m\u001b[0;34m*\u001b[0m\u001b[0minteractions_dist\u001b[0m \u001b[0;34m+\u001b[0m \u001b[0mw2\u001b[0m\u001b[0;34m*\u001b[0m\u001b[0mdiagonal_dist\u001b[0m\u001b[0;34m\u001b[0m\u001b[0;34m\u001b[0m\u001b[0m\n\u001b[0m",
      "\u001b[0;31mNameError\u001b[0m: name 'interactions_dist' is not defined"
     ]
    }
   ],
   "source": [
    "# calculate weighted distance matrix\n",
    "w1 = 1\n",
    "w2 = 0.01\n",
    "\n",
    "dist_mat = w1*interactions_dist + w2*diagonal_dist"
   ]
  },
  {
   "cell_type": "code",
   "execution_count": null,
   "id": "bbf12c33-64d6-46a6-aba7-aa23a14201d4",
   "metadata": {},
   "outputs": [],
   "source": [
    "### calculate kmedoids clusters\n",
    "medoids = 5\n",
    "random_state = 19\n",
    "\n",
    "n = diss_sub.n\n",
    "triu_nan_idx = diss_div.nan_idx_triu\n",
    "\n",
    "# find clusters using k-medoids\n",
    "kmedoids = KMedoids(dist_mat)\n",
    "cluster_result = kmedoids.clusters(medoids=medoids, random_state=random_state)\n",
    "labels_mat = kmedoids.labels4plotting_nan(n, triu_nan_idx)"
   ]
  },
  {
   "cell_type": "code",
   "execution_count": null,
   "id": "6954422b-ec10-4e98-82c1-edb0f6bd4301",
   "metadata": {
    "tags": []
   },
   "outputs": [],
   "source": [
    "f, axs = plt.subplots(figsize=(28, 10),\n",
    "                      nrows=1,\n",
    "                      ncols=2,\n",
    "                      sharex=True, sharey=False)\n",
    "\n",
    "ax = axs[0]\n",
    "im = ax.matshow(div,\n",
    "                norm=MidPointLogNorm(midpoint=1),\n",
    "                cmap='bwr',\n",
    "                extent=EXTENT)\n",
    "plt.colorbar(im, fraction=0.046, pad=0.04, label='IF difference', ax=ax)\n",
    "ax.grid(b=True)\n",
    "ax.set(title='Division')\n",
    "pplot.format_ticks(ax)\n",
    "\n",
    "ax = axs[1]\n",
    "\n",
    "# create discrete colormap\n",
    "cmap = plt.cm.cool\n",
    "bounds = np.linspace(0, medoids, medoids+1)\n",
    "norm = mpl.colors.BoundaryNorm(bounds, cmap.N)\n",
    "\n",
    "im = ax.matshow(labels_mat,\n",
    "                norm=norm,\n",
    "                cmap=cmap,\n",
    "                alpha=1,\n",
    "                extent=EXTENT)\n",
    "plt.colorbar(im, fraction=0.046, pad=0.04, label='clusters', ax=ax)\n",
    "ax.grid(b=True)\n",
    "ax.set(title='Weighted distance')\n",
    "pplot.format_ticks(ax)\n",
    "plt.savefig(f'../../Figures/Clusters/{REGION}_div_log_e_cluster.png')"
   ]
  },
  {
   "cell_type": "markdown",
   "id": "30513dd1-90a8-4e37-b41a-193d84924760",
   "metadata": {},
   "source": [
    "## Pseudocount"
   ]
  },
  {
   "cell_type": "code",
   "execution_count": null,
   "id": "dc1e1f81-2cd9-4501-95a9-21a042bb2ff7",
   "metadata": {},
   "outputs": [],
   "source": [
    "# load datasets\n",
    "pseudo_1 = np.load(os.path.join(PATH, 'pseudo_1_' + REGION + '.npy'))\n",
    "pseudo_01 = np.load(os.path.join(PATH, 'pseudo_01_' + REGION + '.npy'))\n",
    "pseudo_001 = np.load(os.path.join(PATH, 'pseudo_001_' + REGION + '.npy'))\n",
    "\n",
    "# dissimilarity matrix\n",
    "diss_pseudo_1 = DissimilarityMatrix(np.log(pseudo_001))\n",
    "diss_pseudo_01 = DissimilarityMatrix(np.log(pseudo_01))\n",
    "diss_pseudo_001 = DissimilarityMatrix(np.log(pseudo_001))"
   ]
  },
  {
   "cell_type": "code",
   "execution_count": null,
   "id": "46b7c816-43b9-4093-9e98-8005aa7ef17e",
   "metadata": {
    "tags": []
   },
   "outputs": [],
   "source": [
    "# interactions difference\n",
    "intr_pseudo_1 = diss_pseudo_1.scipy_dist(metric='interactions_dist', col1=0, col2=3)\n",
    "\n",
    "# diagonal distance\n",
    "diag_pseudo_1 = diss_pseudo_1.scipy_dist(metric='diagonal_dist', col1=0, col2=3)"
   ]
  },
  {
   "cell_type": "code",
   "execution_count": null,
   "id": "40813772-0cbc-44c9-86d2-17cf8043d050",
   "metadata": {
    "tags": []
   },
   "outputs": [],
   "source": [
    "# calculate weighted distance matrix\n",
    "w1 = 1\n",
    "w2 = 0.01\n",
    "\n",
    "dist_pseudo_1 = w1*intr_pseudo_1 + w2*diag_pseudo_1"
   ]
  },
  {
   "cell_type": "code",
   "execution_count": null,
   "id": "78c0c6e8-b3dd-4818-9064-3bff6e3866f7",
   "metadata": {},
   "outputs": [],
   "source": [
    "### calculate kmedoids clusters\n",
    "medoids = 5\n",
    "random_state = 19\n",
    "\n",
    "n = diss_pseudo_1.n\n",
    "triu_nan_idx = diss_pseudo_1.nan_idx_triu\n",
    "\n",
    "# find clusters using k-medoids\n",
    "kmedoids_pseudo_1 = KMedoids(dist_pseudo_1)\n",
    "cluster_result_pseudo_1 = kmedoids_pseudo_1.clusters(medoids=medoids, random_state=random_state)\n",
    "labels_mat_pseudo_1 = kmedoids_pseudo_1.labels4plotting_nan(n, triu_nan_idx)"
   ]
  },
  {
   "cell_type": "code",
   "execution_count": null,
   "id": "7c7d37a8-b332-48ff-bfec-6e9368130abd",
   "metadata": {
    "tags": []
   },
   "outputs": [],
   "source": [
    "f, axs = plt.subplots(figsize=(30, 10),\n",
    "                      nrows=1,\n",
    "                      ncols=2,\n",
    "                      sharex=True, sharey=False)\n",
    "\n",
    "ax = axs[0]\n",
    "im = ax.matshow(np.ma.masked_invalid(pseudo_1),\n",
    "                norm=MidPointLogNorm(midpoint=1),\n",
    "                cmap='bwr',\n",
    "                extent=EXTENT)\n",
    "plt.colorbar(im, fraction=0.046, pad=0.04, label='IF difference', ax=ax)\n",
    "ax.grid(b=True)\n",
    "ax.set(title='Pseudocount = 0.01')\n",
    "pplot.format_ticks(ax)\n",
    "\n",
    "ax = axs[1]\n",
    "\n",
    "# create discrete colormap\n",
    "cmap = plt.cm.cool\n",
    "bounds = np.linspace(0, medoids, medoids+1)\n",
    "norm = mpl.colors.BoundaryNorm(bounds, cmap.N)\n",
    "\n",
    "im = ax.matshow(labels_mat_pseudo_1,\n",
    "                norm=norm,\n",
    "                cmap=cmap,\n",
    "                alpha=1,\n",
    "                extent=EXTENT)\n",
    "plt.colorbar(im, fraction=0.046, pad=0.04, label='clusters', ax=ax)\n",
    "ax.grid(b=True)\n",
    "ax.set(title='Weighted distance')\n",
    "pplot.format_ticks(ax)\n",
    "plt.savefig(f'../../Figures/Clusters/{REGION}_pseudo_001_cluster.png')"
   ]
  },
  {
   "cell_type": "markdown",
   "id": "6e222cd3-1723-45f8-b296-cd5a156b7714",
   "metadata": {},
   "source": [
    "## Relative difference"
   ]
  },
  {
   "cell_type": "code",
   "execution_count": null,
   "id": "319cb193-ebf0-4fc1-9b08-617da0105040",
   "metadata": {
    "tags": []
   },
   "outputs": [],
   "source": [
    "# load dataset\n",
    "rel = np.load(os.path.join(PATH, 'rel_' + REGION + '.npy'))\n",
    "\n",
    "# dissimilarity matrix\n",
    "diss_rel = DissimilarityMatrix(rel)"
   ]
  },
  {
   "cell_type": "code",
   "execution_count": 10,
   "id": "b8bb060d-4151-4e73-a8fd-390ecf0c8f75",
   "metadata": {
    "tags": []
   },
   "outputs": [
    {
     "ename": "NameError",
     "evalue": "name 'diss_rel' is not defined",
     "output_type": "error",
     "traceback": [
      "\u001b[0;31m---------------------------------------------------------------------------\u001b[0m",
      "\u001b[0;31mNameError\u001b[0m                                 Traceback (most recent call last)",
      "\u001b[0;32m<ipython-input-10-68ae569228a9>\u001b[0m in \u001b[0;36m<module>\u001b[0;34m\u001b[0m\n\u001b[1;32m      1\u001b[0m \u001b[0;31m# interactions difference\u001b[0m\u001b[0;34m\u001b[0m\u001b[0;34m\u001b[0m\u001b[0;34m\u001b[0m\u001b[0m\n\u001b[0;32m----> 2\u001b[0;31m \u001b[0minteractions_dist\u001b[0m \u001b[0;34m=\u001b[0m \u001b[0mdiss_rel\u001b[0m\u001b[0;34m.\u001b[0m\u001b[0mscipy_dist\u001b[0m\u001b[0;34m(\u001b[0m\u001b[0mmetric\u001b[0m\u001b[0;34m=\u001b[0m\u001b[0;34m'interactions_dist'\u001b[0m\u001b[0;34m,\u001b[0m \u001b[0mcol1\u001b[0m\u001b[0;34m=\u001b[0m\u001b[0;36m0\u001b[0m\u001b[0;34m,\u001b[0m \u001b[0mcol2\u001b[0m\u001b[0;34m=\u001b[0m\u001b[0;36m3\u001b[0m\u001b[0;34m)\u001b[0m\u001b[0;34m\u001b[0m\u001b[0;34m\u001b[0m\u001b[0m\n\u001b[0m\u001b[1;32m      3\u001b[0m \u001b[0;34m\u001b[0m\u001b[0m\n\u001b[1;32m      4\u001b[0m \u001b[0;31m# diagonal distance\u001b[0m\u001b[0;34m\u001b[0m\u001b[0;34m\u001b[0m\u001b[0;34m\u001b[0m\u001b[0m\n\u001b[1;32m      5\u001b[0m \u001b[0mdiagonal_dist\u001b[0m \u001b[0;34m=\u001b[0m \u001b[0mdiss_rel\u001b[0m\u001b[0;34m.\u001b[0m\u001b[0mscipy_dist\u001b[0m\u001b[0;34m(\u001b[0m\u001b[0mmetric\u001b[0m\u001b[0;34m=\u001b[0m\u001b[0;34m'diagonal_dist'\u001b[0m\u001b[0;34m,\u001b[0m \u001b[0mcol1\u001b[0m\u001b[0;34m=\u001b[0m\u001b[0;36m0\u001b[0m\u001b[0;34m,\u001b[0m \u001b[0mcol2\u001b[0m\u001b[0;34m=\u001b[0m\u001b[0;36m3\u001b[0m\u001b[0;34m)\u001b[0m\u001b[0;34m\u001b[0m\u001b[0;34m\u001b[0m\u001b[0m\n",
      "\u001b[0;31mNameError\u001b[0m: name 'diss_rel' is not defined"
     ]
    }
   ],
   "source": [
    "# interactions difference\n",
    "interactions_dist = diss_rel.scipy_dist(metric='interactions_dist', col1=0, col2=3)\n",
    "\n",
    "# diagonal distance\n",
    "diagonal_dist = diss_rel.scipy_dist(metric='diagonal_dist', col1=0, col2=3)"
   ]
  },
  {
   "cell_type": "code",
   "execution_count": null,
   "id": "c7f72124-c6a2-44f1-8f63-621b3ed232f1",
   "metadata": {
    "tags": []
   },
   "outputs": [],
   "source": [
    "# calculate weighted distance matrix\n",
    "w1 = 1\n",
    "w2 = 0.01\n",
    "\n",
    "dist_mat = w1*interactions_dist + w2*diagonal_dist"
   ]
  },
  {
   "cell_type": "code",
   "execution_count": null,
   "id": "ca6d6100-14e0-4291-8a09-2d562e01f679",
   "metadata": {},
   "outputs": [],
   "source": [
    "### calculate kmedoids clusters\n",
    "medoids = 5\n",
    "random_state = 19\n",
    "\n",
    "n = diss_sub.n\n",
    "triu_nan_idx = diss_rel.nan_idx_triu\n",
    "\n",
    "# find clusters using k-medoids\n",
    "kmedoids = KMedoids(dist_mat)\n",
    "cluster_result = kmedoids.clusters(medoids=medoids, random_state=random_state)\n",
    "labels_mat = kmedoids.labels4plotting_nan(n, triu_nan_idx)"
   ]
  },
  {
   "cell_type": "code",
   "execution_count": null,
   "id": "abc6b1ae-79e5-4d2e-bc2d-6cb9ac895d4a",
   "metadata": {
    "tags": []
   },
   "outputs": [],
   "source": [
    "# create discrete colormap\n",
    "cmap = plt.cm.cool\n",
    "bounds = np.linspace(0, medoids, medoids+1)\n",
    "norm = mpl.colors.BoundaryNorm(bounds, cmap.N)\n",
    "\n",
    "f, axs = plt.subplots(figsize=(28, 10),\n",
    "                      nrows=1,\n",
    "                      ncols=2,\n",
    "                      sharex=True, sharey=False)\n",
    "\n",
    "ax = axs[0]\n",
    "vmax = np.nanmax(abs(rel))\n",
    "im = ax.matshow(rel,\n",
    "                vmax=vmax,\n",
    "                vmin=-vmax,\n",
    "                cmap='bwr',\n",
    "                extent=EXTENT)\n",
    "plt.colorbar(im, fraction=0.046, pad=0.04, label='IF difference', ax=ax)\n",
    "ax.grid(b=True)\n",
    "ax.set(title='Relative difference')\n",
    "pplot.format_ticks(ax)\n",
    "\n",
    "ax = axs[1]\n",
    "im = ax.matshow(labels_mat,\n",
    "                norm=norm,\n",
    "                cmap=cmap,\n",
    "                alpha=1,\n",
    "                extent=EXTENT)\n",
    "plt.colorbar(im, fraction=0.046, pad=0.04, label='clusters', ax=ax)\n",
    "ax.grid(b=True)\n",
    "ax.set(title='Weighted distance')\n",
    "pplot.format_ticks(ax)\n",
    "plt.savefig(f'../../Figures/Clusters/{REGION}_rel_cluster.png')"
   ]
  }
 ],
 "metadata": {
  "kernelspec": {
   "display_name": "Python 3",
   "language": "python",
   "name": "python3"
  },
  "language_info": {
   "codemirror_mode": {
    "name": "ipython",
    "version": 3
   },
   "file_extension": ".py",
   "mimetype": "text/x-python",
   "name": "python",
   "nbconvert_exporter": "python",
   "pygments_lexer": "ipython3",
   "version": "3.8.12"
  }
 },
 "nbformat": 4,
 "nbformat_minor": 5
}
