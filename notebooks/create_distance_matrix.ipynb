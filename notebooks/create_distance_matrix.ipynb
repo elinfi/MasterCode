{
 "cells": [
  {
   "cell_type": "markdown",
   "id": "d569391e-22b6-4d76-8c46-6715b3650c06",
   "metadata": {},
   "source": [
    "In this notebook I test scipy and sklearn and how fast they produce the distance matrix."
   ]
  },
  {
   "cell_type": "markdown",
   "id": "2d763980-ccf3-41a7-9d95-b81f670e6ad3",
   "metadata": {},
   "source": [
    "I start by setting the path to the folder with all the classes."
   ]
  },
  {
   "cell_type": "code",
   "execution_count": 1,
   "id": "7c4abd7a-bc9c-458c-8342-dc3d4c291a99",
   "metadata": {},
   "outputs": [],
   "source": [
    "import sys\n",
    "sys.path.insert(1, '/home/elinfi/MasterCode/src/class/')"
   ]
  },
  {
   "cell_type": "code",
   "execution_count": 2,
   "id": "3919664a",
   "metadata": {},
   "outputs": [],
   "source": [
    "import random\n",
    "import kmedoids\n",
    "\n",
    "import numpy as np\n",
    "import matplotlib.pyplot as plt\n",
    "import matplotlib as mpl\n",
    "\n",
    "from time import time\n",
    "from k_medoids import KMedoids\n",
    "from mpl_toolkits.mplot3d import Axes3D\n",
    "from dissimilarity_matrix import DissimilarityMatrix\n",
    "from data_preparation import DataPreparation\n",
    "from sklearn_extra.cluster import KMedoids\n",
    "\n"
   ]
  },
  {
   "cell_type": "markdown",
   "id": "5288e1f0-7932-47ec-9786-9e9ffdb8279e",
   "metadata": {},
   "source": [
    "Set the path to the merged wild type and cancer Hi-C data. The resolution is set to 16000 to reduce run time, and the region is set to chr4:10M-15M for some example."
   ]
  },
  {
   "cell_type": "code",
   "execution_count": 3,
   "id": "5988513b",
   "metadata": {},
   "outputs": [],
   "source": [
    "# get path to multi resolution hic data\n",
    "path_wt = '/home/elinfi/coolers/HiC_wt_merged.mcool'\n",
    "path_cancer = '/home/elinfi/coolers/HiC_cancer_merged.mcool'\n",
    "\n",
    "# resolution\n",
    "resolution = 32000\n",
    "\n",
    "# region of genome\n",
    "region = 'chr4:10M-15M'"
   ]
  },
  {
   "cell_type": "markdown",
   "id": "5bf30f60-a250-494e-a09f-ddf3f1ed422c",
   "metadata": {},
   "source": [
    "The Hi-C data is then transformed to a numpy array showing the given region at the given resolution. By default the matrices are balanced using the ICE method built in to the cooler package."
   ]
  },
  {
   "cell_type": "code",
   "execution_count": 4,
   "id": "1295e33b",
   "metadata": {},
   "outputs": [
    {
     "name": "stdout",
     "output_type": "stream",
     "text": [
      "The shape of the Hi-C contact matrix: \n",
      "(157, 157)\n"
     ]
    }
   ],
   "source": [
    "# create objects of class\n",
    "wt = DataPreparation(path_wt, resolution, region)\n",
    "cancer = DataPreparation(path_cancer, resolution, region)\n",
    "\n",
    "print(\"The shape of the Hi-C contact matrix: \")\n",
    "print(wt.matrix.shape)"
   ]
  },
  {
   "cell_type": "code",
   "execution_count": 5,
   "id": "33f49d4a",
   "metadata": {},
   "outputs": [],
   "source": [
    "# caluclate the relative difference between the two matrices\n",
    "diff = wt.relative_difference(cancer)"
   ]
  },
  {
   "cell_type": "code",
   "execution_count": 6,
   "id": "91d2c50b",
   "metadata": {},
   "outputs": [
    {
     "name": "stdout",
     "output_type": "stream",
     "text": [
      "Scipy: 0.5094664096832275s\n",
      "Sklearn: 0.21376562118530273s\n"
     ]
    }
   ],
   "source": [
    "# calculate the distance matrix\n",
    "dissimilarity = DissimilarityMatrix(diff)\n",
    "\n",
    "# using scipy.pdist\n",
    "start = time()\n",
    "distmat_scipy = dissimilarity.scipy_dist('chebyshev', 0, 3)\n",
    "end = time()\n",
    "print(f\"Scipy: {end - start}s\")\n",
    "\n",
    "#using sklearn.pairwise_distance\n",
    "start = time()\n",
    "distmat_sklearn = dissimilarity.sklearn_dist('chebyshev')\n",
    "end = time()\n",
    "print(f\"Sklearn: {end - start}s\")"
   ]
  },
  {
   "cell_type": "code",
   "execution_count": 7,
   "id": "f853d99b-a03a-4d29-a9bc-954ac23fe1d2",
   "metadata": {
    "tags": []
   },
   "outputs": [
    {
     "name": "stdout",
     "output_type": "stream",
     "text": [
      "Scipy: 58.22506260871887s\n"
     ]
    }
   ],
   "source": [
    "# calculate the distance matrix\n",
    "dissimilarity = DissimilarityMatrix(diff)\n",
    "\n",
    "# using scipy.pdist\n",
    "start = time()\n",
    "distmat_scipy = dissimilarity.scipy_dist(metric='interactions_dist', col1=0, col2=3)\n",
    "end = time()\n",
    "print(f\"Scipy: {end - start}s\")"
   ]
  },
  {
   "cell_type": "code",
   "execution_count": 9,
   "id": "885a0589-c83f-4dba-b1c4-1921eaaf792f",
   "metadata": {},
   "outputs": [
    {
     "name": "stdout",
     "output_type": "stream",
     "text": [
      "Sklearn: 118.90540623664856s\n"
     ]
    }
   ],
   "source": [
    "#using sklearn.pairwise_distance\n",
    "start = time()\n",
    "distmat_sklearn = dissimilarity.sklearn_dist(metric='interactions_dist')\n",
    "end = time()\n",
    "print(f\"Sklearn: {end - start}s\")"
   ]
  },
  {
   "cell_type": "markdown",
   "id": "a5596b40-37fd-4730-8839-280f8decf78c",
   "metadata": {},
   "source": [
    "Sklearn works best when using built in distance metrics, while scipy is faster when using own distance metrics. This is mainly visible when the size of the contact matrix is large."
   ]
  },
  {
   "cell_type": "code",
   "execution_count": null,
   "id": "7e41f3ac",
   "metadata": {
    "scrolled": true
   },
   "outputs": [],
   "source": [
    "# check if the two distance matrices are equal\n",
    "print(np.sum(distmat_scipy != distmat_sklearn))"
   ]
  }
 ],
 "metadata": {
  "kernelspec": {
   "display_name": "Python 3",
   "language": "python",
   "name": "python3"
  },
  "language_info": {
   "codemirror_mode": {
    "name": "ipython",
    "version": 3
   },
   "file_extension": ".py",
   "mimetype": "text/x-python",
   "name": "python",
   "nbconvert_exporter": "python",
   "pygments_lexer": "ipython3",
   "version": "3.8.12"
  },
  "toc-autonumbering": false,
  "toc-showmarkdowntxt": true,
  "toc-showtags": false
 },
 "nbformat": 4,
 "nbformat_minor": 5
}
